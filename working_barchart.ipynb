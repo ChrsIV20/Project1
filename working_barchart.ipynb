{
 "cells": [
  {
   "cell_type": "code",
   "execution_count": 17,
   "id": "32b06049",
   "metadata": {},
   "outputs": [
    {
     "name": "stdout",
     "output_type": "stream",
     "text": [
      "[1140, 234, 154]\n",
      "[411, 264, 835]\n"
     ]
    }
   ],
   "source": [
    "import matplotlib.pyplot as plt\n",
    "import matplotlib\n",
    "matplotlib.use('Agg')\n",
    "import numpy as np\n",
    "\n",
    "\n",
    "# Read the contents of the first .txt file\n",
    "with open(r'/media/sf_Kali_Files/side_project/test/cybersecurity_news_sentiment.txt', encoding='utf-8') as f:\n",
    "    file1_contents = f.read()\n",
    "\n",
    "# Read the contents of the second .txt file\n",
    "with open(r'/media/sf_Kali_Files/side_project/test/osint_news_sentiment.txt', 'r', encoding='utf-8') as f:\n",
    "    file2_contents = f.read()\n",
    "\n",
    "\n",
    "sentiments = ['positive', 'negative', 'neutral']\n",
    "\n",
    "# Calculate the count of each sentiment in file 1\n",
    "sentiment_counts_1 = [file1_contents.count(sentiment) for sentiment in sentiments]\n",
    "print(sentiment_counts_1)\n",
    "\n",
    "# Calculate the count of each sentiment in file 2\n",
    "sentiment_counts_2 = [file2_contents.count(sentiment) for sentiment in sentiments]\n",
    "print(sentiment_counts_2)\n",
    "\n",
    "# Create a bar chart for the counts in file 1\n",
    "plt.bar(sentiments, sentiment_counts_1, color='purple', width=0.35)\n",
    "plt.xlabel('Sentiments')\n",
    "plt.ylabel('Counts')\n",
    "plt.ylim(500, 2000)\n",
    "plt.yticks(np.arange(500, 2100, 500))\n",
    "plt.title('Sentiment Analysis Results - File 1')\n",
    "plt.savefig('sentiment_analysis_1.png')\n",
    "plt.clf()\n",
    "\n",
    "# Create a bar chart for the counts in file 2\n",
    "plt.bar(sentiments, sentiment_counts_2, color='purple', width=0.35)\n",
    "plt.xlabel('Sentiments')\n",
    "plt.ylabel('Counts')\n",
    "plt.ylim(500, 2000)\n",
    "plt.yticks(np.arange(500, 2100, 500))\n",
    "plt.title('Sentiment Analysis Results - File 2')\n",
    "plt.savefig('sentiment_analysis_2.png')\n"
   ]
  },
  {
   "cell_type": "code",
   "execution_count": null,
   "id": "9b7dd647",
   "metadata": {},
   "outputs": [],
   "source": []
  }
 ],
 "metadata": {
  "kernelspec": {
   "display_name": "Python 3 (ipykernel)",
   "language": "python",
   "name": "python3"
  },
  "language_info": {
   "codemirror_mode": {
    "name": "ipython",
    "version": 3
   },
   "file_extension": ".py",
   "mimetype": "text/x-python",
   "name": "python",
   "nbconvert_exporter": "python",
   "pygments_lexer": "ipython3",
   "version": "3.10.7"
  }
 },
 "nbformat": 4,
 "nbformat_minor": 5
}
